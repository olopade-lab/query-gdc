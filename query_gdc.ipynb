{
 "cells": [
  {
   "cell_type": "code",
   "execution_count": 6,
   "metadata": {},
   "outputs": [],
   "source": [
    "import requests\n",
    "import json\n",
    "\n",
    "import pandas as pd"
   ]
  },
  {
   "cell_type": "code",
   "execution_count": 7,
   "metadata": {},
   "outputs": [],
   "source": [
    "race = pd.read_csv('/Users/awoodard/genomics/query_gdc/race.csv')"
   ]
  },
  {
   "cell_type": "code",
   "execution_count": 8,
   "metadata": {},
   "outputs": [],
   "source": [
    "fields = [\n",
    "    \"submitter_id\",\n",
    "    \"case_id\"\n",
    "    ]\n",
    "\n",
    "fields = \",\".join(fields)\n",
    "\n",
    "cases_endpt = \"https://api.gdc.cancer.gov/cases\"\n",
    "\n",
    "filters = {\n",
    "    \"op\": \"in\",\n",
    "    \"content\":{\n",
    "        \"field\": \"primary_site\",\n",
    "        \"value\": [\"Breast\"]\n",
    "        }\n",
    "    }\n",
    "\n",
    "\n",
    "params = {\n",
    "    \"filters\": json.dumps(filters),\n",
    "    \"fields\": fields,\n",
    "    \"format\": \"TSV\",\n",
    "    \"size\": \"5000\"\n",
    "    }\n",
    "\n",
    "response = requests.get(cases_endpt, params = params)\n",
    "\n",
    "with open('result.tsv', 'w') as f:\n",
    "    f.write(response.content.decode())\n",
    "\n",
    "df = pd.read_csv('result.tsv', sep='\\t')"
   ]
  },
  {
   "cell_type": "code",
   "execution_count": 9,
   "metadata": {},
   "outputs": [
    {
     "data": {
      "text/plain": [
       "46"
      ]
     },
     "execution_count": 9,
     "metadata": {},
     "output_type": "execute_result"
    }
   ],
   "source": [
    "white_ids = df.loc[df.submitter_id.isin(race.loc[race['Race'] == 'White', 'ID']), 'id']\n",
    "len(white_ids)"
   ]
  },
  {
   "cell_type": "code",
   "execution_count": 10,
   "metadata": {},
   "outputs": [
    {
     "name": "stderr",
     "output_type": "stream",
     "text": [
      "/Users/awoodard/software/miniconda3/lib/python3.7/site-packages/ipykernel_launcher.py:1: FutureWarning: The signature of `Series.to_csv` was aligned to that of `DataFrame.to_csv`, and argument 'header' will change its default value from False to True: please pass an explicit value to suppress this warning.\n",
      "  \"\"\"Entry point for launching an IPython kernel.\n"
     ]
    }
   ],
   "source": [
    "white_ids.to_csv('white_case_ids.csv', index=None)"
   ]
  },
  {
   "cell_type": "code",
   "execution_count": null,
   "metadata": {},
   "outputs": [],
   "source": []
  }
 ],
 "metadata": {
  "kernelspec": {
   "display_name": "Python 3",
   "language": "python",
   "name": "python3"
  },
  "language_info": {
   "codemirror_mode": {
    "name": "ipython",
    "version": 3
   },
   "file_extension": ".py",
   "mimetype": "text/x-python",
   "name": "python",
   "nbconvert_exporter": "python",
   "pygments_lexer": "ipython3",
   "version": "3.7.2"
  }
 },
 "nbformat": 4,
 "nbformat_minor": 2
}
