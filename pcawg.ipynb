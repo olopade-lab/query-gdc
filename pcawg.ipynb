{
 "cells": [
  {
   "cell_type": "code",
   "execution_count": 78,
   "metadata": {},
   "outputs": [],
   "source": [
    "import requests\n",
    "import json\n",
    "\n",
    "import numpy as np\n",
    "import pandas as pd\n",
    "pd.set_option('display.max_rows', 100)"
   ]
  },
  {
   "cell_type": "code",
   "execution_count": 109,
   "metadata": {},
   "outputs": [],
   "source": [
    "pcawg = pd.read_csv('pcawg.txt', sep='\\t')"
   ]
  },
  {
   "cell_type": "code",
   "execution_count": 110,
   "metadata": {},
   "outputs": [],
   "source": [
    "matched_cases = pd.read_csv('matched-case-list.tsv', sep='\\t')\n",
    "result = pd.read_csv('result.tsv', sep='\\t')"
   ]
  },
  {
   "cell_type": "code",
   "execution_count": 111,
   "metadata": {},
   "outputs": [],
   "source": [
    "for case_id in matched_cases.mappedCaseId:\n",
    "    race = result[result.submitter_id == case_id]['demographic.race'].iloc[0]\n",
    "    matched_cases.loc[matched_cases.mappedCaseId == case_id, 'TCGA_Portal_reported_ancestry'] = race"
   ]
  },
  {
   "cell_type": "code",
   "execution_count": 112,
   "metadata": {},
   "outputs": [],
   "source": [
    "matched_cases.loc[matched_cases.TCGA_Portal_reported_ancestry == 'asian', 'TCGA_Portal_reported_ancestry'] = 'Asian'\n",
    "matched_cases.loc[matched_cases.TCGA_Portal_reported_ancestry == 'white', 'TCGA_Portal_reported_ancestry'] = 'White'\n",
    "matched_cases.loc[matched_cases.TCGA_Portal_reported_ancestry == 'black or african american', 'TCGA_Portal_reported_ancestry'] = 'Black'\n",
    "matched_cases['final_race'] = np.where(matched_cases.Jason_NC_Genetic_Ancestry.notna(), matched_cases.Jason_NC_Genetic_Ancestry, matched_cases.TCGA_Portal_reported_ancestry)\n",
    "matched_cases.fillna('not found in NC paper', inplace=True)\n",
    "matched_cases.to_csv('aliquot-case-id-genetic-ancestry-reported-ancestry-mapping.tsv', sep='\\t', index=None)"
   ]
  },
  {
   "cell_type": "code",
   "execution_count": 113,
   "metadata": {},
   "outputs": [
    {
     "data": {
      "text/plain": [
       "White                    50\n",
       "Black                    31\n",
       "Unassigned                5\n",
       "Asian                     3\n",
       "not found in NC paper     2\n",
       "Name: Jason_NC_Genetic_Ancestry, dtype: int64"
      ]
     },
     "execution_count": 113,
     "metadata": {},
     "output_type": "execute_result"
    }
   ],
   "source": [
    "matched_cases.Jason_NC_Genetic_Ancestry.value_counts()"
   ]
  },
  {
   "cell_type": "code",
   "execution_count": 114,
   "metadata": {},
   "outputs": [
    {
     "data": {
      "text/plain": [
       "White           43\n",
       "Black           32\n",
       "not reported    12\n",
       "Asian            4\n",
       "Name: TCGA_Portal_reported_ancestry, dtype: int64"
      ]
     },
     "execution_count": 114,
     "metadata": {},
     "output_type": "execute_result"
    }
   ],
   "source": [
    "matched_cases.TCGA_Portal_reported_ancestry.value_counts()"
   ]
  },
  {
   "cell_type": "code",
   "execution_count": 115,
   "metadata": {},
   "outputs": [
    {
     "data": {
      "text/plain": [
       "White         52\n",
       "Black         31\n",
       "Unassigned     5\n",
       "Asian          3\n",
       "Name: final_race, dtype: int64"
      ]
     },
     "execution_count": 115,
     "metadata": {},
     "output_type": "execute_result"
    }
   ],
   "source": [
    "matched_cases.final_race.value_counts()"
   ]
  }
 ],
 "metadata": {
  "kernelspec": {
   "display_name": "Python 3",
   "language": "python",
   "name": "python3"
  },
  "language_info": {
   "codemirror_mode": {
    "name": "ipython",
    "version": 3
   },
   "file_extension": ".py",
   "mimetype": "text/x-python",
   "name": "python",
   "nbconvert_exporter": "python",
   "pygments_lexer": "ipython3",
   "version": "3.7.2"
  }
 },
 "nbformat": 4,
 "nbformat_minor": 2
}
